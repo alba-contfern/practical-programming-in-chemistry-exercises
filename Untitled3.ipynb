{
 "cells": [
  {
   "cell_type": "code",
   "execution_count": 1,
   "id": "edb6cdd5-25ca-472f-aa34-da7814b2a943",
   "metadata": {},
   "outputs": [
    {
     "ename": "SyntaxError",
     "evalue": "invalid decimal literal (2972891725.py, line 1)",
     "output_type": "error",
     "traceback": [
      "\u001b[1;36m  Cell \u001b[1;32mIn[1], line 1\u001b[1;36m\u001b[0m\n\u001b[1;33m    exercise_02/07_from_script_to_package.ipynb\u001b[0m\n\u001b[1;37m                  ^\u001b[0m\n\u001b[1;31mSyntaxError\u001b[0m\u001b[1;31m:\u001b[0m invalid decimal literal\n"
     ]
    }
   ],
   "source": [
    "exercise_02/07_from_script_to_package.ipynb"
   ]
  },
  {
   "cell_type": "code",
   "execution_count": 2,
   "id": "cab86719-f0d1-477d-b5db-bcdb47eedbe1",
   "metadata": {},
   "outputs": [
    {
     "name": "stdout",
     "output_type": "stream",
     "text": [
      "Collecting rdkit\n",
      "  Downloading rdkit-2023.9.5-cp310-cp310-win_amd64.whl.metadata (4.0 kB)\n",
      "Collecting numpy (from rdkit)\n",
      "  Using cached numpy-1.26.4-cp310-cp310-win_amd64.whl.metadata (61 kB)\n",
      "Collecting Pillow (from rdkit)\n",
      "  Using cached pillow-10.3.0-cp310-cp310-win_amd64.whl.metadata (9.4 kB)\n",
      "Downloading rdkit-2023.9.5-cp310-cp310-win_amd64.whl (21.1 MB)\n",
      "   ---------------------------------------- 0.0/21.1 MB ? eta -:--:--\n",
      "   ---------------------------------------- 0.0/21.1 MB ? eta -:--:--\n",
      "   ---------------------------------------- 0.0/21.1 MB ? eta -:--:--\n",
      "   ---------------------------------------- 0.0/21.1 MB 262.6 kB/s eta 0:01:21\n",
      "   ---------------------------------------- 0.0/21.1 MB 281.8 kB/s eta 0:01:15\n",
      "   ---------------------------------------- 0.2/21.1 MB 1.3 MB/s eta 0:00:16\n",
      "    --------------------------------------- 0.5/21.1 MB 2.2 MB/s eta 0:00:10\n",
      "   -- ------------------------------------- 1.2/21.1 MB 4.3 MB/s eta 0:00:05\n",
      "   --- ------------------------------------ 1.9/21.1 MB 5.7 MB/s eta 0:00:04\n",
      "   ---- ----------------------------------- 2.4/21.1 MB 6.3 MB/s eta 0:00:03\n",
      "   ----- ---------------------------------- 3.0/21.1 MB 7.0 MB/s eta 0:00:03\n",
      "   ------- -------------------------------- 3.7/21.1 MB 7.6 MB/s eta 0:00:03\n",
      "   -------- ------------------------------- 4.3/21.1 MB 8.1 MB/s eta 0:00:03\n",
      "   --------- ------------------------------ 5.1/21.1 MB 8.7 MB/s eta 0:00:02\n",
      "   ---------- ----------------------------- 5.6/21.1 MB 9.0 MB/s eta 0:00:02\n",
      "   ------------ --------------------------- 6.5/21.1 MB 9.6 MB/s eta 0:00:02\n",
      "   ------------- -------------------------- 7.3/21.1 MB 9.9 MB/s eta 0:00:02\n",
      "   --------------- ------------------------ 8.1/21.1 MB 10.4 MB/s eta 0:00:02\n",
      "   ---------------- ----------------------- 8.8/21.1 MB 10.4 MB/s eta 0:00:02\n",
      "   ----------------- ---------------------- 9.3/21.1 MB 10.6 MB/s eta 0:00:02\n",
      "   ------------------ --------------------- 9.9/21.1 MB 10.7 MB/s eta 0:00:02\n",
      "   -------------------- ------------------- 10.5/21.1 MB 13.1 MB/s eta 0:00:01\n",
      "   --------------------- ------------------ 11.3/21.1 MB 13.6 MB/s eta 0:00:01\n",
      "   ----------------------- ---------------- 12.2/21.1 MB 13.9 MB/s eta 0:00:01\n",
      "   ------------------------ --------------- 12.9/21.1 MB 14.2 MB/s eta 0:00:01\n",
      "   -------------------------- ------------- 13.8/21.1 MB 14.5 MB/s eta 0:00:01\n",
      "   --------------------------- ------------ 14.3/21.1 MB 14.6 MB/s eta 0:00:01\n",
      "   ---------------------------- ----------- 15.2/21.1 MB 14.6 MB/s eta 0:00:01\n",
      "   ------------------------------ --------- 15.8/21.1 MB 14.2 MB/s eta 0:00:01\n",
      "   ------------------------------ --------- 16.3/21.1 MB 14.2 MB/s eta 0:00:01\n",
      "   ------------------------------- -------- 16.8/21.1 MB 13.9 MB/s eta 0:00:01\n",
      "   -------------------------------- ------- 17.3/21.1 MB 13.6 MB/s eta 0:00:01\n",
      "   ---------------------------------- ----- 17.9/21.1 MB 13.4 MB/s eta 0:00:01\n",
      "   ----------------------------------- ---- 18.8/21.1 MB 13.6 MB/s eta 0:00:01\n",
      "   ------------------------------------ --- 19.3/21.1 MB 13.4 MB/s eta 0:00:01\n",
      "   -------------------------------------- - 20.1/21.1 MB 13.6 MB/s eta 0:00:01\n",
      "   ---------------------------------------  20.6/21.1 MB 13.6 MB/s eta 0:00:01\n",
      "   ---------------------------------------  21.1/21.1 MB 13.4 MB/s eta 0:00:01\n",
      "   ---------------------------------------  21.1/21.1 MB 13.4 MB/s eta 0:00:01\n",
      "   ---------------------------------------- 21.1/21.1 MB 12.3 MB/s eta 0:00:00\n",
      "Using cached numpy-1.26.4-cp310-cp310-win_amd64.whl (15.8 MB)\n",
      "Using cached pillow-10.3.0-cp310-cp310-win_amd64.whl (2.5 MB)\n",
      "Installing collected packages: Pillow, numpy, rdkit\n",
      "Successfully installed Pillow-10.3.0 numpy-1.26.4 rdkit-2023.9.5\n"
     ]
    }
   ],
   "source": [
    "!pip install rdkit\n"
   ]
  },
  {
   "cell_type": "code",
   "execution_count": 4,
   "id": "717cba57-9003-45fe-ab3d-318780379e68",
   "metadata": {},
   "outputs": [
    {
     "name": "stdout",
     "output_type": "stream",
     "text": [
      "RXN SMILES with atom mapping: [CH3:17][S:14](=[O:15])(=[O:16])[N:11]1[CH2:10][CH2:9][N:8](Cc2ccccc2)[CH2:13][CH2:12]1.C1CCCCC1>[OH-].[OH-].[Pd+2].CCO>[CH3:17][S:14](=[O:15])(=[O:16])[N:11]1[CH2:10][CH2:9][NH:8][CH2:13][CH2:12]1\n",
      "*** Remove atom mapping ***\n",
      "RXN SMILES without atom mapping: C1CCCCC1.CS(=O)(=O)N1CCN(Cc2ccccc2)CC1>CCO.[OH-].[OH-].[Pd+2]>CS(=O)(=O)N1CCNCC1\n"
     ]
    }
   ],
   "source": [
    "!python amremover_script.py"
   ]
  },
  {
   "cell_type": "code",
   "execution_count": null,
   "id": "fc33d86a-a610-4be3-a25d-a2f9bd230678",
   "metadata": {},
   "outputs": [],
   "source": []
  }
 ],
 "metadata": {
  "kernelspec": {
   "display_name": "Python 3 (ipykernel)",
   "language": "python",
   "name": "python3"
  },
  "language_info": {
   "codemirror_mode": {
    "name": "ipython",
    "version": 3
   },
   "file_extension": ".py",
   "mimetype": "text/x-python",
   "name": "python",
   "nbconvert_exporter": "python",
   "pygments_lexer": "ipython3",
   "version": "3.10.14"
  }
 },
 "nbformat": 4,
 "nbformat_minor": 5
}
