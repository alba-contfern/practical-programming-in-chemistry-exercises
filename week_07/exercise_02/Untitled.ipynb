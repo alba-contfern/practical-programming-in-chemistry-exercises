{
 "cells": [
  {
   "cell_type": "code",
   "execution_count": 1,
   "id": "935cc814-c86c-42cc-a2cb-ff15bcb6dc97",
   "metadata": {},
   "outputs": [
    {
     "ename": "NameError",
     "evalue": "name 'pyproject' is not defined",
     "output_type": "error",
     "traceback": [
      "\u001b[1;31m---------------------------------------------------------------------------\u001b[0m",
      "\u001b[1;31mNameError\u001b[0m                                 Traceback (most recent call last)",
      "Cell \u001b[1;32mIn[1], line 1\u001b[0m\n\u001b[1;32m----> 1\u001b[0m \u001b[43mpyproject\u001b[49m\u001b[38;5;241m.\u001b[39mtoml\n",
      "\u001b[1;31mNameError\u001b[0m: name 'pyproject' is not defined"
     ]
    }
   ],
   "source": [
    "pyproject.toml"
   ]
  },
  {
   "cell_type": "code",
   "execution_count": null,
   "id": "7a890873-a159-4bc7-aa08-3969c1d1dc6c",
   "metadata": {},
   "outputs": [],
   "source": []
  }
 ],
 "metadata": {
  "kernelspec": {
   "display_name": "Python 3 (ipykernel)",
   "language": "python",
   "name": "python3"
  },
  "language_info": {
   "codemirror_mode": {
    "name": "ipython",
    "version": 3
   },
   "file_extension": ".py",
   "mimetype": "text/x-python",
   "name": "python",
   "nbconvert_exporter": "python",
   "pygments_lexer": "ipython3",
   "version": "3.10.14"
  }
 },
 "nbformat": 4,
 "nbformat_minor": 5
}
