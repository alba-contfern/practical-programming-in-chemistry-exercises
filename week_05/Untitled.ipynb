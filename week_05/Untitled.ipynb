{
 "cells": [
  {
   "cell_type": "code",
   "execution_count": 5,
   "id": "756a9a4b-ef43-4355-aadb-d28b0fc8bf8a",
   "metadata": {},
   "outputs": [
    {
     "name": "stdout",
     "output_type": "stream",
     "text": [
      "C:\\Users\\Alba\\miniconda3\\envs\\drfp_env\n"
     ]
    }
   ],
   "source": [
    "import sys \n",
    "print(sys.prefix)\n"
   ]
  },
  {
   "cell_type": "code",
   "execution_count": 10,
   "id": "f0f75a90-0ba7-4a59-ad6e-64b6f95e73df",
   "metadata": {},
   "outputs": [
    {
     "name": "stdout",
     "output_type": "stream",
     "text": [
      "DRFP installed in: C:\\Users\\Alba\\miniconda3\\envs\\drfp_env\\lib\\site-packages\\drfp\\__init__.py\n"
     ]
    }
   ],
   "source": [
    "import drfp\n",
    "print(\"DRFP installed in:\", drfp.__file__)\n",
    "from drfp import DrfpEncoder"
   ]
  },
  {
   "cell_type": "code",
   "execution_count": 10,
   "id": "c4621d2b-e422-4ba2-8a66-5779078334bc",
   "metadata": {},
   "outputs": [],
   "source": [
    "rxn_smiles = [\n",
    "    \"CO.O[C@@H]1CCNC1.[C-]#[N+]CC(=O)OC>>[C-]#[N+]CC(=O)N1CC[C@@H](O)C1\",\n",
    "    \"CCOC(=O)C(CC)c1cccnc1.Cl.O>>CCC(C(=O)O)c1cccnc1\",\n",
    "]"
   ]
  },
  {
   "cell_type": "code",
   "execution_count": 11,
   "id": "8f74362d-4410-4aa2-9229-bbb6353cf7c4",
   "metadata": {},
   "outputs": [
    {
     "name": "stdout",
     "output_type": "stream",
     "text": [
      "C:\\Users\\Alba\\miniconda3\\envs\\drfp_source\n"
     ]
    }
   ],
   "source": [
    "import sys \n",
    "print(sys.prefix)\n"
   ]
  },
  {
   "cell_type": "code",
   "execution_count": 12,
   "id": "7e025536-3090-4b09-8b54-dba41f6ffb33",
   "metadata": {},
   "outputs": [
    {
     "name": "stdout",
     "output_type": "stream",
     "text": [
      "DRFP installed in: C:\\Users\\Alba\\git\\drfp\\src\\drfp\\__init__.py\n"
     ]
    }
   ],
   "source": [
    "import drfp\n",
    "print(\"DRFP installed in:\", drfp.__file__)"
   ]
  },
  {
   "cell_type": "code",
   "execution_count": 13,
   "id": "b33bdbc8-9d81-4cd8-878a-6c07483b608c",
   "metadata": {},
   "outputs": [
    {
     "ename": "OverflowError",
     "evalue": "Python int too large to convert to C long",
     "output_type": "error",
     "traceback": [
      "\u001b[1;31m---------------------------------------------------------------------------\u001b[0m",
      "\u001b[1;31mOverflowError\u001b[0m                             Traceback (most recent call last)",
      "Cell \u001b[1;32mIn[13], line 6\u001b[0m\n\u001b[0;32m      1\u001b[0m \u001b[38;5;28;01mfrom\u001b[39;00m \u001b[38;5;21;01mdrfp\u001b[39;00m \u001b[38;5;28;01mimport\u001b[39;00m DrfpEncoder\n\u001b[0;32m      2\u001b[0m rxn_smiles \u001b[38;5;241m=\u001b[39m [\n\u001b[0;32m      3\u001b[0m     \u001b[38;5;124m\"\u001b[39m\u001b[38;5;124mCO.O[C@@H]1CCNC1.[C-]#[N+]CC(=O)OC>>[C-]#[N+]CC(=O)N1CC[C@@H](O)C1\u001b[39m\u001b[38;5;124m\"\u001b[39m,\n\u001b[0;32m      4\u001b[0m     \u001b[38;5;124m\"\u001b[39m\u001b[38;5;124mCCOC(=O)C(CC)c1cccnc1.Cl.O>>CCC(C(=O)O)c1cccnc1\u001b[39m\u001b[38;5;124m\"\u001b[39m,\n\u001b[0;32m      5\u001b[0m ]\n\u001b[1;32m----> 6\u001b[0m fps \u001b[38;5;241m=\u001b[39m \u001b[43mDrfpEncoder\u001b[49m\u001b[38;5;241;43m.\u001b[39;49m\u001b[43mencode\u001b[49m\u001b[43m(\u001b[49m\u001b[43mrxn_smiles\u001b[49m\u001b[43m)\u001b[49m\n\u001b[0;32m      7\u001b[0m fps\n",
      "File \u001b[1;32m~\\git\\drfp\\src\\drfp\\fingerprint.py:342\u001b[0m, in \u001b[0;36mDrfpEncoder.encode\u001b[1;34m(X, n_folded_length, min_radius, radius, rings, mapping, atom_index_mapping, root_central_atom, include_hydrogens, show_progress_bar)\u001b[0m\n\u001b[0;32m    332\u001b[0m     hashed_diff, smiles_diff, atom_index_map \u001b[38;5;241m=\u001b[39m DrfpEncoder\u001b[38;5;241m.\u001b[39minternal_encode(\n\u001b[0;32m    333\u001b[0m         x,\n\u001b[0;32m    334\u001b[0m         min_radius\u001b[38;5;241m=\u001b[39mmin_radius,\n\u001b[1;32m   (...)\u001b[0m\n\u001b[0;32m    339\u001b[0m         include_hydrogens\u001b[38;5;241m=\u001b[39minclude_hydrogens,\n\u001b[0;32m    340\u001b[0m     )\n\u001b[0;32m    341\u001b[0m \u001b[38;5;28;01melse\u001b[39;00m:\n\u001b[1;32m--> 342\u001b[0m     hashed_diff, smiles_diff \u001b[38;5;241m=\u001b[39m \u001b[43mDrfpEncoder\u001b[49m\u001b[38;5;241;43m.\u001b[39;49m\u001b[43minternal_encode\u001b[49m\u001b[43m(\u001b[49m\n\u001b[0;32m    343\u001b[0m \u001b[43m        \u001b[49m\u001b[43mx\u001b[49m\u001b[43m,\u001b[49m\n\u001b[0;32m    344\u001b[0m \u001b[43m        \u001b[49m\u001b[43mmin_radius\u001b[49m\u001b[38;5;241;43m=\u001b[39;49m\u001b[43mmin_radius\u001b[49m\u001b[43m,\u001b[49m\n\u001b[0;32m    345\u001b[0m \u001b[43m        \u001b[49m\u001b[43mradius\u001b[49m\u001b[38;5;241;43m=\u001b[39;49m\u001b[43mradius\u001b[49m\u001b[43m,\u001b[49m\n\u001b[0;32m    346\u001b[0m \u001b[43m        \u001b[49m\u001b[43mrings\u001b[49m\u001b[38;5;241;43m=\u001b[39;49m\u001b[43mrings\u001b[49m\u001b[43m,\u001b[49m\n\u001b[0;32m    347\u001b[0m \u001b[43m        \u001b[49m\u001b[43mroot_central_atom\u001b[49m\u001b[38;5;241;43m=\u001b[39;49m\u001b[43mroot_central_atom\u001b[49m\u001b[43m,\u001b[49m\n\u001b[0;32m    348\u001b[0m \u001b[43m        \u001b[49m\u001b[43minclude_hydrogens\u001b[49m\u001b[38;5;241;43m=\u001b[39;49m\u001b[43minclude_hydrogens\u001b[49m\u001b[43m,\u001b[49m\n\u001b[0;32m    349\u001b[0m \u001b[43m    \u001b[49m\u001b[43m)\u001b[49m\n\u001b[0;32m    351\u001b[0m difference_folded, on_bits \u001b[38;5;241m=\u001b[39m DrfpEncoder\u001b[38;5;241m.\u001b[39mfold(\n\u001b[0;32m    352\u001b[0m     hashed_diff,\n\u001b[0;32m    353\u001b[0m     length\u001b[38;5;241m=\u001b[39mn_folded_length,\n\u001b[0;32m    354\u001b[0m )\n\u001b[0;32m    356\u001b[0m \u001b[38;5;28;01mif\u001b[39;00m mapping:\n",
      "File \u001b[1;32m~\\git\\drfp\\src\\drfp\\fingerprint.py:243\u001b[0m, in \u001b[0;36mDrfpEncoder.internal_encode\u001b[1;34m(in_smiles, radius, min_radius, rings, get_atom_indices, root_central_atom, include_hydrogens)\u001b[0m\n\u001b[0;32m    241\u001b[0m     \u001b[38;5;28;01mreturn\u001b[39;00m DrfpEncoder\u001b[38;5;241m.\u001b[39mhash(\u001b[38;5;28mlist\u001b[39m(s)), \u001b[38;5;28mlist\u001b[39m(s), atom_indices\n\u001b[0;32m    242\u001b[0m \u001b[38;5;28;01melse\u001b[39;00m:\n\u001b[1;32m--> 243\u001b[0m     \u001b[38;5;28;01mreturn\u001b[39;00m \u001b[43mDrfpEncoder\u001b[49m\u001b[38;5;241;43m.\u001b[39;49m\u001b[43mhash\u001b[49m\u001b[43m(\u001b[49m\u001b[38;5;28;43mlist\u001b[39;49m\u001b[43m(\u001b[49m\u001b[43ms\u001b[49m\u001b[43m)\u001b[49m\u001b[43m)\u001b[49m, \u001b[38;5;28mlist\u001b[39m(s)\n",
      "File \u001b[1;32m~\\git\\drfp\\src\\drfp\\fingerprint.py:261\u001b[0m, in \u001b[0;36mDrfpEncoder.hash\u001b[1;34m(shingling)\u001b[0m\n\u001b[0;32m    258\u001b[0m \u001b[38;5;28;01mfor\u001b[39;00m t \u001b[38;5;129;01min\u001b[39;00m shingling:\n\u001b[0;32m    259\u001b[0m     hash_values\u001b[38;5;241m.\u001b[39mappend(\u001b[38;5;28mint\u001b[39m(blake2b(t, digest_size\u001b[38;5;241m=\u001b[39m\u001b[38;5;241m4\u001b[39m)\u001b[38;5;241m.\u001b[39mhexdigest(), \u001b[38;5;241m16\u001b[39m))\n\u001b[1;32m--> 261\u001b[0m \u001b[38;5;28;01mreturn\u001b[39;00m \u001b[43mnp\u001b[49m\u001b[38;5;241;43m.\u001b[39;49m\u001b[43marray\u001b[49m\u001b[43m(\u001b[49m\u001b[43mhash_values\u001b[49m\u001b[43m,\u001b[49m\u001b[43m \u001b[49m\u001b[43mdtype\u001b[49m\u001b[38;5;241;43m=\u001b[39;49m\u001b[43mnp\u001b[49m\u001b[38;5;241;43m.\u001b[39;49m\u001b[43mint32\u001b[49m\u001b[43m)\u001b[49m\n",
      "\u001b[1;31mOverflowError\u001b[0m: Python int too large to convert to C long"
     ]
    }
   ],
   "source": [
    "from drfp import DrfpEncoder\n",
    "rxn_smiles = [\n",
    "    \"CO.O[C@@H]1CCNC1.[C-]#[N+]CC(=O)OC>>[C-]#[N+]CC(=O)N1CC[C@@H](O)C1\",\n",
    "    \"CCOC(=O)C(CC)c1cccnc1.Cl.O>>CCC(C(=O)O)c1cccnc1\",\n",
    "]\n",
    "fps = DrfpEncoder.encode(rxn_smiles)\n",
    "fps\n"
   ]
  },
  {
   "cell_type": "code",
   "execution_count": 5,
   "id": "815e88e3-54e6-4f59-b51d-10208ce4fd42",
   "metadata": {},
   "outputs": [
    {
     "ename": "ModuleNotFoundError",
     "evalue": "No module named 'matplotlib'",
     "output_type": "error",
     "traceback": [
      "\u001b[1;31m---------------------------------------------------------------------------\u001b[0m",
      "\u001b[1;31mModuleNotFoundError\u001b[0m                       Traceback (most recent call last)",
      "Cell \u001b[1;32mIn[5], line 1\u001b[0m\n\u001b[1;32m----> 1\u001b[0m \u001b[38;5;28;01mimport\u001b[39;00m \u001b[38;5;21;01mmatplotlib\u001b[39;00m\u001b[38;5;21;01m.\u001b[39;00m\u001b[38;5;21;01mpyplot\u001b[39;00m \u001b[38;5;28;01mas\u001b[39;00m \u001b[38;5;21;01mplt\u001b[39;00m\n\u001b[0;32m      2\u001b[0m \u001b[38;5;28;01mimport\u001b[39;00m \u001b[38;5;21;01mnumpy\u001b[39;00m \u001b[38;5;28;01mas\u001b[39;00m \u001b[38;5;21;01mnp\u001b[39;00m\n",
      "\u001b[1;31mModuleNotFoundError\u001b[0m: No module named 'matplotlib'"
     ]
    }
   ],
   "source": [
    "import matplotlib.pyplot as plt\n",
    "import numpy as np"
   ]
  },
  {
   "cell_type": "code",
   "execution_count": 6,
   "id": "91bf0ea5-70d0-4050-adb2-136b8f767ebb",
   "metadata": {},
   "outputs": [
    {
     "name": "stdout",
     "output_type": "stream",
     "text": [
      "Collecting matplotlib\n",
      "  Downloading matplotlib-3.8.4-cp310-cp310-win_amd64.whl.metadata (5.9 kB)\n",
      "Collecting contourpy>=1.0.1 (from matplotlib)\n",
      "  Downloading contourpy-1.2.1-cp310-cp310-win_amd64.whl.metadata (5.8 kB)\n",
      "Collecting cycler>=0.10 (from matplotlib)\n",
      "  Using cached cycler-0.12.1-py3-none-any.whl.metadata (3.8 kB)\n",
      "Collecting fonttools>=4.22.0 (from matplotlib)\n",
      "  Downloading fonttools-4.51.0-cp310-cp310-win_amd64.whl.metadata (162 kB)\n",
      "     ---------------------------------------- 0.0/162.8 kB ? eta -:--:--\n",
      "     ---------------------------------------- 0.0/162.8 kB ? eta -:--:--\n",
      "     ------ ------------------------------ 30.7/162.8 kB 660.6 kB/s eta 0:00:01\n",
      "     ----------------------------------- -- 153.6/162.8 kB 2.3 MB/s eta 0:00:01\n",
      "     -------------------------------------- 162.8/162.8 kB 1.6 MB/s eta 0:00:00\n",
      "Collecting kiwisolver>=1.3.1 (from matplotlib)\n",
      "  Using cached kiwisolver-1.4.5-cp310-cp310-win_amd64.whl.metadata (6.5 kB)\n",
      "Requirement already satisfied: numpy>=1.21 in c:\\users\\alba\\miniconda3\\envs\\drfp_source\\lib\\site-packages (from matplotlib) (1.26.4)\n",
      "Requirement already satisfied: packaging>=20.0 in c:\\users\\alba\\miniconda3\\envs\\drfp_source\\lib\\site-packages (from matplotlib) (23.2)\n",
      "Requirement already satisfied: pillow>=8 in c:\\users\\alba\\miniconda3\\envs\\drfp_source\\lib\\site-packages (from matplotlib) (10.3.0)\n",
      "Collecting pyparsing>=2.3.1 (from matplotlib)\n",
      "  Using cached pyparsing-3.1.2-py3-none-any.whl.metadata (5.1 kB)\n",
      "Requirement already satisfied: python-dateutil>=2.7 in c:\\users\\alba\\miniconda3\\envs\\drfp_source\\lib\\site-packages (from matplotlib) (2.8.2)\n",
      "Requirement already satisfied: six>=1.5 in c:\\users\\alba\\miniconda3\\envs\\drfp_source\\lib\\site-packages (from python-dateutil>=2.7->matplotlib) (1.16.0)\n",
      "Downloading matplotlib-3.8.4-cp310-cp310-win_amd64.whl (7.7 MB)\n",
      "   ---------------------------------------- 0.0/7.7 MB ? eta -:--:--\n",
      "   -- ------------------------------------- 0.4/7.7 MB 12.2 MB/s eta 0:00:01\n",
      "   --- ------------------------------------ 0.8/7.7 MB 9.6 MB/s eta 0:00:01\n",
      "   ------ --------------------------------- 1.2/7.7 MB 10.9 MB/s eta 0:00:01\n",
      "   -------- ------------------------------- 1.6/7.7 MB 11.2 MB/s eta 0:00:01\n",
      "   ----------- ---------------------------- 2.2/7.7 MB 11.8 MB/s eta 0:00:01\n",
      "   -------------- ------------------------- 2.7/7.7 MB 10.8 MB/s eta 0:00:01\n",
      "   ----------------- ---------------------- 3.3/7.7 MB 11.0 MB/s eta 0:00:01\n",
      "   -------------------- ------------------- 3.9/7.7 MB 11.4 MB/s eta 0:00:01\n",
      "   --------------------- ------------------ 4.2/7.7 MB 10.7 MB/s eta 0:00:01\n",
      "   ---------------------- ----------------- 4.4/7.7 MB 10.4 MB/s eta 0:00:01\n",
      "   --------------------------- ------------ 5.3/7.7 MB 10.6 MB/s eta 0:00:01\n",
      "   ------------------------------ --------- 5.8/7.7 MB 10.6 MB/s eta 0:00:01\n",
      "   -------------------------------- ------- 6.2/7.7 MB 10.5 MB/s eta 0:00:01\n",
      "   -------------------------------- ------- 6.2/7.7 MB 10.5 MB/s eta 0:00:01\n",
      "   ---------------------------------- ----- 6.7/7.7 MB 9.7 MB/s eta 0:00:01\n",
      "   ------------------------------------- -- 7.2/7.7 MB 9.5 MB/s eta 0:00:01\n",
      "   ---------------------------------------  7.6/7.7 MB 9.6 MB/s eta 0:00:01\n",
      "   ---------------------------------------- 7.7/7.7 MB 9.1 MB/s eta 0:00:00\n",
      "Downloading contourpy-1.2.1-cp310-cp310-win_amd64.whl (187 kB)\n",
      "   ---------------------------------------- 0.0/187.5 kB ? eta -:--:--\n",
      "   --------------------------------------- 187.5/187.5 kB 11.1 MB/s eta 0:00:00\n",
      "Using cached cycler-0.12.1-py3-none-any.whl (8.3 kB)\n",
      "Downloading fonttools-4.51.0-cp310-cp310-win_amd64.whl (2.2 MB)\n",
      "   ---------------------------------------- 0.0/2.2 MB ? eta -:--:--\n",
      "   -------- ------------------------------- 0.5/2.2 MB 14.5 MB/s eta 0:00:01\n",
      "   -------------------- ------------------- 1.1/2.2 MB 14.0 MB/s eta 0:00:01\n",
      "   ------------------------------ --------- 1.6/2.2 MB 15.0 MB/s eta 0:00:01\n",
      "   -------------------------------------- - 2.1/2.2 MB 13.5 MB/s eta 0:00:01\n",
      "   ---------------------------------------  2.2/2.2 MB 11.6 MB/s eta 0:00:01\n",
      "   ---------------------------------------- 2.2/2.2 MB 10.0 MB/s eta 0:00:00\n",
      "Using cached kiwisolver-1.4.5-cp310-cp310-win_amd64.whl (56 kB)\n",
      "Using cached pyparsing-3.1.2-py3-none-any.whl (103 kB)\n",
      "Installing collected packages: pyparsing, kiwisolver, fonttools, cycler, contourpy, matplotlib\n",
      "Successfully installed contourpy-1.2.1 cycler-0.12.1 fonttools-4.51.0 kiwisolver-1.4.5 matplotlib-3.8.4 pyparsing-3.1.2\n"
     ]
    }
   ],
   "source": [
    "!pip install matplotlib\n"
   ]
  },
  {
   "cell_type": "code",
   "execution_count": 7,
   "id": "11773a96-a3d7-4d92-a0b5-5915bc412873",
   "metadata": {},
   "outputs": [],
   "source": [
    "import matplotlib.pyplot as plt\n",
    "import numpy as np"
   ]
  },
  {
   "cell_type": "code",
   "execution_count": 9,
   "id": "961736bc-05e7-4e17-8562-5cadda947dde",
   "metadata": {},
   "outputs": [
    {
     "ename": "OverflowError",
     "evalue": "Python int too large to convert to C long",
     "output_type": "error",
     "traceback": [
      "\u001b[1;31m---------------------------------------------------------------------------\u001b[0m",
      "\u001b[1;31mOverflowError\u001b[0m                             Traceback (most recent call last)",
      "Cell \u001b[1;32mIn[9], line 2\u001b[0m\n\u001b[0;32m      1\u001b[0m dtype\u001b[38;5;241m=\u001b[39mnp\u001b[38;5;241m.\u001b[39mint64\n\u001b[1;32m----> 2\u001b[0m fps_128 \u001b[38;5;241m=\u001b[39m \u001b[43mDrfpEncoder\u001b[49m\u001b[38;5;241;43m.\u001b[39;49m\u001b[43mencode\u001b[49m\u001b[43m(\u001b[49m\u001b[43mrxn_smiles\u001b[49m\u001b[43m,\u001b[49m\u001b[43m \u001b[49m\u001b[43mn_folded_length\u001b[49m\u001b[38;5;241;43m=\u001b[39;49m\u001b[38;5;241;43m128\u001b[39;49m\u001b[43m)\u001b[49m\n\u001b[0;32m      3\u001b[0m fps_128\n",
      "File \u001b[1;32m~\\git\\drfp\\src\\drfp\\fingerprint.py:342\u001b[0m, in \u001b[0;36mDrfpEncoder.encode\u001b[1;34m(X, n_folded_length, min_radius, radius, rings, mapping, atom_index_mapping, root_central_atom, include_hydrogens, show_progress_bar)\u001b[0m\n\u001b[0;32m    332\u001b[0m     hashed_diff, smiles_diff, atom_index_map \u001b[38;5;241m=\u001b[39m DrfpEncoder\u001b[38;5;241m.\u001b[39minternal_encode(\n\u001b[0;32m    333\u001b[0m         x,\n\u001b[0;32m    334\u001b[0m         min_radius\u001b[38;5;241m=\u001b[39mmin_radius,\n\u001b[1;32m   (...)\u001b[0m\n\u001b[0;32m    339\u001b[0m         include_hydrogens\u001b[38;5;241m=\u001b[39minclude_hydrogens,\n\u001b[0;32m    340\u001b[0m     )\n\u001b[0;32m    341\u001b[0m \u001b[38;5;28;01melse\u001b[39;00m:\n\u001b[1;32m--> 342\u001b[0m     hashed_diff, smiles_diff \u001b[38;5;241m=\u001b[39m \u001b[43mDrfpEncoder\u001b[49m\u001b[38;5;241;43m.\u001b[39;49m\u001b[43minternal_encode\u001b[49m\u001b[43m(\u001b[49m\n\u001b[0;32m    343\u001b[0m \u001b[43m        \u001b[49m\u001b[43mx\u001b[49m\u001b[43m,\u001b[49m\n\u001b[0;32m    344\u001b[0m \u001b[43m        \u001b[49m\u001b[43mmin_radius\u001b[49m\u001b[38;5;241;43m=\u001b[39;49m\u001b[43mmin_radius\u001b[49m\u001b[43m,\u001b[49m\n\u001b[0;32m    345\u001b[0m \u001b[43m        \u001b[49m\u001b[43mradius\u001b[49m\u001b[38;5;241;43m=\u001b[39;49m\u001b[43mradius\u001b[49m\u001b[43m,\u001b[49m\n\u001b[0;32m    346\u001b[0m \u001b[43m        \u001b[49m\u001b[43mrings\u001b[49m\u001b[38;5;241;43m=\u001b[39;49m\u001b[43mrings\u001b[49m\u001b[43m,\u001b[49m\n\u001b[0;32m    347\u001b[0m \u001b[43m        \u001b[49m\u001b[43mroot_central_atom\u001b[49m\u001b[38;5;241;43m=\u001b[39;49m\u001b[43mroot_central_atom\u001b[49m\u001b[43m,\u001b[49m\n\u001b[0;32m    348\u001b[0m \u001b[43m        \u001b[49m\u001b[43minclude_hydrogens\u001b[49m\u001b[38;5;241;43m=\u001b[39;49m\u001b[43minclude_hydrogens\u001b[49m\u001b[43m,\u001b[49m\n\u001b[0;32m    349\u001b[0m \u001b[43m    \u001b[49m\u001b[43m)\u001b[49m\n\u001b[0;32m    351\u001b[0m difference_folded, on_bits \u001b[38;5;241m=\u001b[39m DrfpEncoder\u001b[38;5;241m.\u001b[39mfold(\n\u001b[0;32m    352\u001b[0m     hashed_diff,\n\u001b[0;32m    353\u001b[0m     length\u001b[38;5;241m=\u001b[39mn_folded_length,\n\u001b[0;32m    354\u001b[0m )\n\u001b[0;32m    356\u001b[0m \u001b[38;5;28;01mif\u001b[39;00m mapping:\n",
      "File \u001b[1;32m~\\git\\drfp\\src\\drfp\\fingerprint.py:243\u001b[0m, in \u001b[0;36mDrfpEncoder.internal_encode\u001b[1;34m(in_smiles, radius, min_radius, rings, get_atom_indices, root_central_atom, include_hydrogens)\u001b[0m\n\u001b[0;32m    241\u001b[0m     \u001b[38;5;28;01mreturn\u001b[39;00m DrfpEncoder\u001b[38;5;241m.\u001b[39mhash(\u001b[38;5;28mlist\u001b[39m(s)), \u001b[38;5;28mlist\u001b[39m(s), atom_indices\n\u001b[0;32m    242\u001b[0m \u001b[38;5;28;01melse\u001b[39;00m:\n\u001b[1;32m--> 243\u001b[0m     \u001b[38;5;28;01mreturn\u001b[39;00m \u001b[43mDrfpEncoder\u001b[49m\u001b[38;5;241;43m.\u001b[39;49m\u001b[43mhash\u001b[49m\u001b[43m(\u001b[49m\u001b[38;5;28;43mlist\u001b[39;49m\u001b[43m(\u001b[49m\u001b[43ms\u001b[49m\u001b[43m)\u001b[49m\u001b[43m)\u001b[49m, \u001b[38;5;28mlist\u001b[39m(s)\n",
      "File \u001b[1;32m~\\git\\drfp\\src\\drfp\\fingerprint.py:261\u001b[0m, in \u001b[0;36mDrfpEncoder.hash\u001b[1;34m(shingling)\u001b[0m\n\u001b[0;32m    258\u001b[0m \u001b[38;5;28;01mfor\u001b[39;00m t \u001b[38;5;129;01min\u001b[39;00m shingling:\n\u001b[0;32m    259\u001b[0m     hash_values\u001b[38;5;241m.\u001b[39mappend(\u001b[38;5;28mint\u001b[39m(blake2b(t, digest_size\u001b[38;5;241m=\u001b[39m\u001b[38;5;241m4\u001b[39m)\u001b[38;5;241m.\u001b[39mhexdigest(), \u001b[38;5;241m16\u001b[39m))\n\u001b[1;32m--> 261\u001b[0m \u001b[38;5;28;01mreturn\u001b[39;00m \u001b[43mnp\u001b[49m\u001b[38;5;241;43m.\u001b[39;49m\u001b[43marray\u001b[49m\u001b[43m(\u001b[49m\u001b[43mhash_values\u001b[49m\u001b[43m,\u001b[49m\u001b[43m \u001b[49m\u001b[43mdtype\u001b[49m\u001b[38;5;241;43m=\u001b[39;49m\u001b[43mnp\u001b[49m\u001b[38;5;241;43m.\u001b[39;49m\u001b[43mint32\u001b[49m\u001b[43m)\u001b[49m\n",
      "\u001b[1;31mOverflowError\u001b[0m: Python int too large to convert to C long"
     ]
    }
   ],
   "source": [
    "\n",
    "fps_128 = DrfpEncoder.encode(rxn_smiles, n_folded_length=128)\n",
    "fps_128"
   ]
  },
  {
   "cell_type": "code",
   "execution_count": null,
   "id": "dd3122e3-caa9-4173-8c96-1e602d65187d",
   "metadata": {},
   "outputs": [],
   "source": []
  }
 ],
 "metadata": {
  "kernelspec": {
   "display_name": "Python 3 (ipykernel)",
   "language": "python",
   "name": "python3"
  },
  "language_info": {
   "codemirror_mode": {
    "name": "ipython",
    "version": 3
   },
   "file_extension": ".py",
   "mimetype": "text/x-python",
   "name": "python",
   "nbconvert_exporter": "python",
   "pygments_lexer": "ipython3",
   "version": "3.10.14"
  }
 },
 "nbformat": 4,
 "nbformat_minor": 5
}
